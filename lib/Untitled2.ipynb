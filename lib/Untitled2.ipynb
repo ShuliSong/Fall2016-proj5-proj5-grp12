{
 "cells": [
  {
   "cell_type": "code",
   "execution_count": 1,
   "metadata": {
    "collapsed": true
   },
   "outputs": [],
   "source": [
    "ls = [(u'1diI7PX0AxbbtiUB7nPbuQ', u'Joe', u'Windsor', u'5223 N Central Ave\\r\\nPhoenix, AZ 85012', 4.0), (u'1diI7PX0AxbbtiUB7nPbuQ', u'Joe', u'The Parlor', u'1916 E Camelback Rd\\r\\nPhoenix, AZ 85016', 4.0), (u'1diI7PX0AxbbtiUB7nPbuQ', u'Joe', u\"Chelsea's Kitchen\", u'5040 N 40th St\\r\\nPhoenix, AZ 85018', 4.0), (u'1diI7PX0AxbbtiUB7nPbuQ', u'Joe', u\"Beckett's Table\", u'3717 E Indian School Rd\\r\\nPhoenix, AZ 85018', 4.0), (u'1diI7PX0AxbbtiUB7nPbuQ', u'Joe', u\"Hula's Modern Tiki\", u'4700 N Central Ave\\r\\nPhoenix, AZ 85012', 4.0), (u'1diI7PX0AxbbtiUB7nPbuQ', u'Joe', u'Gallo Blanco', u'401 W Clarendon Ave\\r\\nPhoenix, AZ 85013', 4.0), (u'1diI7PX0AxbbtiUB7nPbuQ', u'Joe', u'FEZ', u'3815 N Central Ave\\r\\nPhoenix, AZ 85012', 4.0), (u'1diI7PX0AxbbtiUB7nPbuQ', u'Joe', u'O.H.S.O. Eatery + NanoBrewery', u'4900 E Indian School Rd\\r\\nPhoenix, AZ 85018', 4.0), (u'1diI7PX0AxbbtiUB7nPbuQ', u'Joe', u'Citizen Public House', u'7111 E 5th Ave\\r\\nSte E\\r\\nScottsdale, AZ 85251', 4.5), (u'1diI7PX0AxbbtiUB7nPbuQ', u'Joe', u'Cibo', u'603 N 5th Ave\\r\\nPhoenix, AZ 85003', 4.5)]"
   ]
  },
  {
   "cell_type": "code",
   "execution_count": 7,
   "metadata": {
    "collapsed": false
   },
   "outputs": [
    {
     "data": {
      "text/plain": [
       "u'Windsor'"
      ]
     },
     "execution_count": 7,
     "metadata": {},
     "output_type": "execute_result"
    }
   ],
   "source": [
    "ls[0][2]"
   ]
  },
  {
   "cell_type": "code",
   "execution_count": null,
   "metadata": {
    "collapsed": true
   },
   "outputs": [],
   "source": []
  }
 ],
 "metadata": {
  "anaconda-cloud": {},
  "kernelspec": {
   "display_name": "Python [default]",
   "language": "python",
   "name": "python2"
  },
  "language_info": {
   "codemirror_mode": {
    "name": "ipython",
    "version": 2
   },
   "file_extension": ".py",
   "mimetype": "text/x-python",
   "name": "python",
   "nbconvert_exporter": "python",
   "pygments_lexer": "ipython2",
   "version": "2.7.12"
  }
 },
 "nbformat": 4,
 "nbformat_minor": 1
}
